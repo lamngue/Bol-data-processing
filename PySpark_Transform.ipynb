{
  "nbformat": 4,
  "nbformat_minor": 0,
  "metadata": {
    "colab": {
      "provenance": []
    },
    "kernelspec": {
      "name": "python3",
      "display_name": "Python 3"
    },
    "language_info": {
      "name": "python"
    }
  },
  "cells": [
    {
      "cell_type": "code",
      "source": [
        "!pip install pyspark"
      ],
      "metadata": {
        "colab": {
          "base_uri": "https://localhost:8080/"
        },
        "id": "C-Yq28bhL2jw",
        "outputId": "e88cd603-34e3-46c8-cb11-ef9111342e2f"
      },
      "execution_count": 2,
      "outputs": [
        {
          "output_type": "stream",
          "name": "stdout",
          "text": [
            "Collecting pyspark\n",
            "  Downloading pyspark-3.4.1.tar.gz (310.8 MB)\n",
            "\u001b[2K     \u001b[90m━━━━━━━━━━━━━━━━━━━━━━━━━━━━━━━━━━━━━━━\u001b[0m \u001b[32m310.8/310.8 MB\u001b[0m \u001b[31m4.4 MB/s\u001b[0m eta \u001b[36m0:00:00\u001b[0m\n",
            "\u001b[?25h  Preparing metadata (setup.py) ... \u001b[?25l\u001b[?25hdone\n",
            "Requirement already satisfied: py4j==0.10.9.7 in /usr/local/lib/python3.10/dist-packages (from pyspark) (0.10.9.7)\n",
            "Building wheels for collected packages: pyspark\n",
            "  Building wheel for pyspark (setup.py) ... \u001b[?25l\u001b[?25hdone\n",
            "  Created wheel for pyspark: filename=pyspark-3.4.1-py2.py3-none-any.whl size=311285398 sha256=427ec71bbfe8ea12497228406c3dfbd3912593b7a28a5ce0f9497e399a8fd2ae\n",
            "  Stored in directory: /root/.cache/pip/wheels/0d/77/a3/ff2f74cc9ab41f8f594dabf0579c2a7c6de920d584206e0834\n",
            "Successfully built pyspark\n",
            "Installing collected packages: pyspark\n",
            "Successfully installed pyspark-3.4.1\n"
          ]
        }
      ]
    },
    {
      "cell_type": "code",
      "source": [
        "!pip install translate"
      ],
      "metadata": {
        "colab": {
          "base_uri": "https://localhost:8080/"
        },
        "id": "cqqtV9IT6BrT",
        "outputId": "f60bd20f-052b-45e2-a2b4-5512bc079433"
      },
      "execution_count": 5,
      "outputs": [
        {
          "output_type": "stream",
          "name": "stdout",
          "text": [
            "Collecting translate\n",
            "  Downloading translate-3.6.1-py2.py3-none-any.whl (12 kB)\n",
            "Requirement already satisfied: click in /usr/local/lib/python3.10/dist-packages (from translate) (8.1.3)\n",
            "Requirement already satisfied: lxml in /usr/local/lib/python3.10/dist-packages (from translate) (4.9.2)\n",
            "Requirement already satisfied: requests in /usr/local/lib/python3.10/dist-packages (from translate) (2.27.1)\n",
            "Collecting libretranslatepy==2.1.1 (from translate)\n",
            "  Downloading libretranslatepy-2.1.1-py3-none-any.whl (3.2 kB)\n",
            "Requirement already satisfied: urllib3<1.27,>=1.21.1 in /usr/local/lib/python3.10/dist-packages (from requests->translate) (1.26.16)\n",
            "Requirement already satisfied: certifi>=2017.4.17 in /usr/local/lib/python3.10/dist-packages (from requests->translate) (2023.5.7)\n",
            "Requirement already satisfied: charset-normalizer~=2.0.0 in /usr/local/lib/python3.10/dist-packages (from requests->translate) (2.0.12)\n",
            "Requirement already satisfied: idna<4,>=2.5 in /usr/local/lib/python3.10/dist-packages (from requests->translate) (3.4)\n",
            "Installing collected packages: libretranslatepy, translate\n",
            "Successfully installed libretranslatepy-2.1.1 translate-3.6.1\n"
          ]
        }
      ]
    },
    {
      "cell_type": "code",
      "execution_count": 6,
      "metadata": {
        "id": "xvUFrMvRLB8k"
      },
      "outputs": [],
      "source": [
        "from pyspark.sql import SparkSession\n",
        "from pyspark.sql.functions import split, when, regexp_replace, regexp_extract, initcap, concat_ws, length, col, lit, udf\n",
        "import pyspark.sql.functions as F\n",
        "import os\n",
        "from time import sleep\n",
        "from pyspark.sql.types import StringType\n",
        "from translate import Translator\n"
      ]
    },
    {
      "cell_type": "code",
      "source": [
        "os.chdir('/content/drive/MyDrive/Bol_Data_Processing')\n",
        "os.environ['GOOGLE_APPLICATION_CREDENTIALS'] = r\"/content/drive/MyDrive/Bol_Data_Processing/google_keys.json\"\n",
        "current_dir = os.getcwd()\n",
        "current_dir"
      ],
      "metadata": {
        "colab": {
          "base_uri": "https://localhost:8080/",
          "height": 36
        },
        "id": "6fqX4GMeLoew",
        "outputId": "ec614940-6875-4b6f-cc86-b32536c3ce7d"
      },
      "execution_count": 7,
      "outputs": [
        {
          "output_type": "execute_result",
          "data": {
            "text/plain": [
              "'/content/drive/MyDrive/Bol_Data_Processing'"
            ],
            "application/vnd.google.colaboratory.intrinsic+json": {
              "type": "string"
            }
          },
          "metadata": {},
          "execution_count": 7
        }
      ]
    },
    {
      "cell_type": "code",
      "source": [
        "spark = SparkSession.builder.getOrCreate()\n",
        "print(spark)"
      ],
      "metadata": {
        "colab": {
          "base_uri": "https://localhost:8080/"
        },
        "id": "du1M2af7MGXP",
        "outputId": "3758bd17-e257-49ae-e5f6-1b079ad535a3"
      },
      "execution_count": 8,
      "outputs": [
        {
          "output_type": "stream",
          "name": "stdout",
          "text": [
            "<pyspark.sql.session.SparkSession object at 0x7f7746914b50>\n"
          ]
        }
      ]
    },
    {
      "cell_type": "markdown",
      "source": [
        "## Read CSV and to CSV using spark"
      ],
      "metadata": {
        "id": "T2gjR6NVN8-w"
      }
    },
    {
      "cell_type": "code",
      "source": [
        "def read_csv(dir):\n",
        "    data = spark.read \\\n",
        "        .format('csv') \\\n",
        "        .option('header', 'true') \\\n",
        "        .load(current_dir + dir)\n",
        "    return data"
      ],
      "metadata": {
        "id": "9-0kwm1FN-3c"
      },
      "execution_count": 9,
      "outputs": []
    },
    {
      "cell_type": "code",
      "source": [
        "def to_csv(data, dir):\n",
        "    data.to_csv(current_dir + dir, index=False)"
      ],
      "metadata": {
        "id": "WcLAn2awOBg5"
      },
      "execution_count": 10,
      "outputs": []
    },
    {
      "cell_type": "markdown",
      "source": [
        "## Computers & Accesories"
      ],
      "metadata": {
        "id": "34R40fn9vW6_"
      }
    },
    {
      "cell_type": "markdown",
      "source": [
        "### Category"
      ],
      "metadata": {
        "id": "1Gj9GPhq4V2V"
      }
    },
    {
      "cell_type": "code",
      "source": [
        "categories = read_csv('/Data crawled/category_computers.csv')"
      ],
      "metadata": {
        "id": "nVxPbtZW4XS1"
      },
      "execution_count": 11,
      "outputs": []
    },
    {
      "cell_type": "code",
      "source": [
        "categories.show(truncate=False)"
      ],
      "metadata": {
        "colab": {
          "base_uri": "https://localhost:8080/"
        },
        "id": "O9Huk-Ol4cWg",
        "outputId": "2be694d7-9857-4d66-dacf-acbb19161444"
      },
      "execution_count": 12,
      "outputs": [
        {
          "output_type": "stream",
          "name": "stdout",
          "text": [
            "+---------+-----------+\n",
            "|category |category_id|\n",
            "+---------+-----------+\n",
            "|Laptops  |01         |\n",
            "|Monitoren|02         |\n",
            "|Desktops |03         |\n",
            "|Beamers  |04         |\n",
            "|Software |05         |\n",
            "+---------+-----------+\n",
            "\n"
          ]
        }
      ]
    },
    {
      "cell_type": "markdown",
      "source": [
        "Translating the `category` column to English"
      ],
      "metadata": {
        "id": "LKoDzScc5IUy"
      }
    },
    {
      "cell_type": "code",
      "source": [
        "translator = Translator(to_lang='en', from_lang='nl')\n"
      ],
      "metadata": {
        "id": "ZlCqah4Katys"
      },
      "execution_count": 13,
      "outputs": []
    },
    {
      "cell_type": "code",
      "source": [
        "def translate_text(text):\n",
        "    if text is not None:\n",
        "        translated = translator.translate(text)\n",
        "        return translated\n",
        "    else:\n",
        "        return None"
      ],
      "metadata": {
        "id": "lbsV0Lwm59iI"
      },
      "execution_count": 14,
      "outputs": []
    },
    {
      "cell_type": "code",
      "source": [
        "translate_udf = udf(translate_text)"
      ],
      "metadata": {
        "id": "caFXJC2N57MM"
      },
      "execution_count": 15,
      "outputs": []
    },
    {
      "cell_type": "code",
      "source": [
        "categories = categories.withColumn(\"translated_categories\", translate_udf(\"category\"))\n",
        "categories.show(truncate=False)"
      ],
      "metadata": {
        "colab": {
          "base_uri": "https://localhost:8080/"
        },
        "id": "Uoa4KaJ85OGD",
        "outputId": "b8a08293-9e12-431c-9126-83db6bfe655c"
      },
      "execution_count": 16,
      "outputs": [
        {
          "output_type": "stream",
          "name": "stdout",
          "text": [
            "+---------+-----------+---------------------+\n",
            "|category |category_id|translated_categories|\n",
            "+---------+-----------+---------------------+\n",
            "|Laptops  |01         |Laptops              |\n",
            "|Monitoren|02         |Monitoring           |\n",
            "|Desktops |03         |Desktops             |\n",
            "|Beamers  |04         |Beamers              |\n",
            "|Software |05         |Software             |\n",
            "+---------+-----------+---------------------+\n",
            "\n"
          ]
        }
      ]
    },
    {
      "cell_type": "markdown",
      "source": [
        "### Brands"
      ],
      "metadata": {
        "id": "ZtAzXmbDv-Gc"
      }
    },
    {
      "cell_type": "code",
      "source": [
        "brands = read_csv('/Data crawled/brands_computers_accessories.csv')"
      ],
      "metadata": {
        "id": "Cl3GXBQFv8Mg"
      },
      "execution_count": 17,
      "outputs": []
    },
    {
      "cell_type": "code",
      "source": [
        "brands.show(truncate=False)"
      ],
      "metadata": {
        "colab": {
          "base_uri": "https://localhost:8080/"
        },
        "id": "8EkBeMO8wUzV",
        "outputId": "925b4421-c3ff-45c1-ff2c-9d57f648c20e"
      },
      "execution_count": 18,
      "outputs": [
        {
          "output_type": "stream",
          "name": "stdout",
          "text": [
            "+----------------+---------+-----------+\n",
            "|brands          |brands_id|category_id|\n",
            "+----------------+---------+-----------+\n",
            "|Acer            |01       |1          |\n",
            "|Acer Computers  |02       |1          |\n",
            "|Acer LiteON     |03       |1          |\n",
            "|Alienware       |04       |1          |\n",
            "|Alienware 17 R2 |05       |1          |\n",
            "|Apple           |06       |1          |\n",
            "|ASU             |07       |1          |\n",
            "|ASUS            |08       |1          |\n",
            "|Asus rog        |09       |1          |\n",
            "|Asus Rog Strix  |10       |1          |\n",
            "|Avita           |11       |1          |\n",
            "|Blauw           |12       |1          |\n",
            "|BTO             |13       |1          |\n",
            "|Clevo           |14       |1          |\n",
            "|Concept         |15       |1          |\n",
            "|ConceptD        |16       |1          |\n",
            "|Dell            |17       |1          |\n",
            "|Dynabook        |18       |1          |\n",
            "|Dynabook Toshiba|19       |1          |\n",
            "|ElementKey      |20       |1          |\n",
            "+----------------+---------+-----------+\n",
            "only showing top 20 rows\n",
            "\n"
          ]
        }
      ]
    },
    {
      "cell_type": "markdown",
      "source": [
        "Transform the brand names by capitalizing the first letter"
      ],
      "metadata": {
        "id": "Yl8Vir4WzRj-"
      }
    },
    {
      "cell_type": "code",
      "source": [
        "brands = brands.withColumn('brands', initcap('brands'))\n",
        "brands.toPandas()"
      ],
      "metadata": {
        "colab": {
          "base_uri": "https://localhost:8080/",
          "height": 423
        },
        "id": "aPVpa6CGwX8h",
        "outputId": "c9af4125-c674-4152-afbd-4a641f279d80"
      },
      "execution_count": 20,
      "outputs": [
        {
          "output_type": "execute_result",
          "data": {
            "text/plain": [
              "               brands brands_id category_id\n",
              "0                Acer        01           1\n",
              "1      Acer Computers        02           1\n",
              "2         Acer Liteon        03           1\n",
              "3           Alienware        04           1\n",
              "4     Alienware 17 R2        05           1\n",
              "..                ...       ...         ...\n",
              "440             Vipre       441           5\n",
              "441  Westra On Bridge       442           5\n",
              "442           Windows       443           5\n",
              "443  Woord Voor Woord       444           5\n",
              "444             Zebra       445           5\n",
              "\n",
              "[445 rows x 3 columns]"
            ],
            "text/html": [
              "\n",
              "  <div id=\"df-33308a9b-4a3c-4af2-a5ad-18584000a251\">\n",
              "    <div class=\"colab-df-container\">\n",
              "      <div>\n",
              "<style scoped>\n",
              "    .dataframe tbody tr th:only-of-type {\n",
              "        vertical-align: middle;\n",
              "    }\n",
              "\n",
              "    .dataframe tbody tr th {\n",
              "        vertical-align: top;\n",
              "    }\n",
              "\n",
              "    .dataframe thead th {\n",
              "        text-align: right;\n",
              "    }\n",
              "</style>\n",
              "<table border=\"1\" class=\"dataframe\">\n",
              "  <thead>\n",
              "    <tr style=\"text-align: right;\">\n",
              "      <th></th>\n",
              "      <th>brands</th>\n",
              "      <th>brands_id</th>\n",
              "      <th>category_id</th>\n",
              "    </tr>\n",
              "  </thead>\n",
              "  <tbody>\n",
              "    <tr>\n",
              "      <th>0</th>\n",
              "      <td>Acer</td>\n",
              "      <td>01</td>\n",
              "      <td>1</td>\n",
              "    </tr>\n",
              "    <tr>\n",
              "      <th>1</th>\n",
              "      <td>Acer Computers</td>\n",
              "      <td>02</td>\n",
              "      <td>1</td>\n",
              "    </tr>\n",
              "    <tr>\n",
              "      <th>2</th>\n",
              "      <td>Acer Liteon</td>\n",
              "      <td>03</td>\n",
              "      <td>1</td>\n",
              "    </tr>\n",
              "    <tr>\n",
              "      <th>3</th>\n",
              "      <td>Alienware</td>\n",
              "      <td>04</td>\n",
              "      <td>1</td>\n",
              "    </tr>\n",
              "    <tr>\n",
              "      <th>4</th>\n",
              "      <td>Alienware 17 R2</td>\n",
              "      <td>05</td>\n",
              "      <td>1</td>\n",
              "    </tr>\n",
              "    <tr>\n",
              "      <th>...</th>\n",
              "      <td>...</td>\n",
              "      <td>...</td>\n",
              "      <td>...</td>\n",
              "    </tr>\n",
              "    <tr>\n",
              "      <th>440</th>\n",
              "      <td>Vipre</td>\n",
              "      <td>441</td>\n",
              "      <td>5</td>\n",
              "    </tr>\n",
              "    <tr>\n",
              "      <th>441</th>\n",
              "      <td>Westra On Bridge</td>\n",
              "      <td>442</td>\n",
              "      <td>5</td>\n",
              "    </tr>\n",
              "    <tr>\n",
              "      <th>442</th>\n",
              "      <td>Windows</td>\n",
              "      <td>443</td>\n",
              "      <td>5</td>\n",
              "    </tr>\n",
              "    <tr>\n",
              "      <th>443</th>\n",
              "      <td>Woord Voor Woord</td>\n",
              "      <td>444</td>\n",
              "      <td>5</td>\n",
              "    </tr>\n",
              "    <tr>\n",
              "      <th>444</th>\n",
              "      <td>Zebra</td>\n",
              "      <td>445</td>\n",
              "      <td>5</td>\n",
              "    </tr>\n",
              "  </tbody>\n",
              "</table>\n",
              "<p>445 rows × 3 columns</p>\n",
              "</div>\n",
              "      <button class=\"colab-df-convert\" onclick=\"convertToInteractive('df-33308a9b-4a3c-4af2-a5ad-18584000a251')\"\n",
              "              title=\"Convert this dataframe to an interactive table.\"\n",
              "              style=\"display:none;\">\n",
              "        \n",
              "  <svg xmlns=\"http://www.w3.org/2000/svg\" height=\"24px\"viewBox=\"0 0 24 24\"\n",
              "       width=\"24px\">\n",
              "    <path d=\"M0 0h24v24H0V0z\" fill=\"none\"/>\n",
              "    <path d=\"M18.56 5.44l.94 2.06.94-2.06 2.06-.94-2.06-.94-.94-2.06-.94 2.06-2.06.94zm-11 1L8.5 8.5l.94-2.06 2.06-.94-2.06-.94L8.5 2.5l-.94 2.06-2.06.94zm10 10l.94 2.06.94-2.06 2.06-.94-2.06-.94-.94-2.06-.94 2.06-2.06.94z\"/><path d=\"M17.41 7.96l-1.37-1.37c-.4-.4-.92-.59-1.43-.59-.52 0-1.04.2-1.43.59L10.3 9.45l-7.72 7.72c-.78.78-.78 2.05 0 2.83L4 21.41c.39.39.9.59 1.41.59.51 0 1.02-.2 1.41-.59l7.78-7.78 2.81-2.81c.8-.78.8-2.07 0-2.86zM5.41 20L4 18.59l7.72-7.72 1.47 1.35L5.41 20z\"/>\n",
              "  </svg>\n",
              "      </button>\n",
              "      \n",
              "  <style>\n",
              "    .colab-df-container {\n",
              "      display:flex;\n",
              "      flex-wrap:wrap;\n",
              "      gap: 12px;\n",
              "    }\n",
              "\n",
              "    .colab-df-convert {\n",
              "      background-color: #E8F0FE;\n",
              "      border: none;\n",
              "      border-radius: 50%;\n",
              "      cursor: pointer;\n",
              "      display: none;\n",
              "      fill: #1967D2;\n",
              "      height: 32px;\n",
              "      padding: 0 0 0 0;\n",
              "      width: 32px;\n",
              "    }\n",
              "\n",
              "    .colab-df-convert:hover {\n",
              "      background-color: #E2EBFA;\n",
              "      box-shadow: 0px 1px 2px rgba(60, 64, 67, 0.3), 0px 1px 3px 1px rgba(60, 64, 67, 0.15);\n",
              "      fill: #174EA6;\n",
              "    }\n",
              "\n",
              "    [theme=dark] .colab-df-convert {\n",
              "      background-color: #3B4455;\n",
              "      fill: #D2E3FC;\n",
              "    }\n",
              "\n",
              "    [theme=dark] .colab-df-convert:hover {\n",
              "      background-color: #434B5C;\n",
              "      box-shadow: 0px 1px 3px 1px rgba(0, 0, 0, 0.15);\n",
              "      filter: drop-shadow(0px 1px 2px rgba(0, 0, 0, 0.3));\n",
              "      fill: #FFFFFF;\n",
              "    }\n",
              "  </style>\n",
              "\n",
              "      <script>\n",
              "        const buttonEl =\n",
              "          document.querySelector('#df-33308a9b-4a3c-4af2-a5ad-18584000a251 button.colab-df-convert');\n",
              "        buttonEl.style.display =\n",
              "          google.colab.kernel.accessAllowed ? 'block' : 'none';\n",
              "\n",
              "        async function convertToInteractive(key) {\n",
              "          const element = document.querySelector('#df-33308a9b-4a3c-4af2-a5ad-18584000a251');\n",
              "          const dataTable =\n",
              "            await google.colab.kernel.invokeFunction('convertToInteractive',\n",
              "                                                     [key], {});\n",
              "          if (!dataTable) return;\n",
              "\n",
              "          const docLinkHtml = 'Like what you see? Visit the ' +\n",
              "            '<a target=\"_blank\" href=https://colab.research.google.com/notebooks/data_table.ipynb>data table notebook</a>'\n",
              "            + ' to learn more about interactive tables.';\n",
              "          element.innerHTML = '';\n",
              "          dataTable['output_type'] = 'display_data';\n",
              "          await google.colab.output.renderOutput(dataTable, element);\n",
              "          const docLink = document.createElement('div');\n",
              "          docLink.innerHTML = docLinkHtml;\n",
              "          element.appendChild(docLink);\n",
              "        }\n",
              "      </script>\n",
              "    </div>\n",
              "  </div>\n",
              "  "
            ]
          },
          "metadata": {},
          "execution_count": 20
        }
      ]
    },
    {
      "cell_type": "markdown",
      "source": [
        "### Products"
      ],
      "metadata": {
        "id": "iiwwpC0H0JHU"
      }
    },
    {
      "cell_type": "code",
      "source": [
        "products = read_csv('/Data crawled/computers_accesories.csv')\n",
        "products_mod = products.withColumnRenamed(\"phone_specs\", \"product_specs\")\n",
        "products_mod = products.withColumn(\"product_specs\", products[\"phone_specs\"]).drop(\"phone_specs\")\n",
        "products_mod.toPandas()"
      ],
      "metadata": {
        "colab": {
          "base_uri": "https://localhost:8080/",
          "height": 2960
        },
        "id": "JsL9Q3Pv0Mp8",
        "outputId": "127a8084-b15c-4b4b-a8e1-88126923efa2"
      },
      "execution_count": 21,
      "outputs": [
        {
          "output_type": "execute_result",
          "data": {
            "text/plain": [
              "                                            product_name  prices  \\\n",
              "0                   HP 15s-fq2730nd - Laptop - 15.6 inch  399.00   \n",
              "1                     HP 14s-fq1716nd - Laptop - 14 inch  519.00   \n",
              "2                   HP 15s-fq5750nd - Laptop - 15.6 inch    None   \n",
              "3                   HP 15s-fq2771nd - Laptop - 15.6 inch  699.00   \n",
              "4      Lenovo IdeaPad 3 14ADA6 82KQ000SMH - Laptop - ...  349.00   \n",
              "...                                                  ...     ...   \n",
              "11598                                        Planten /PC    None   \n",
              "11599                     F-Secure Safe 3-Devices 1 jaar    None   \n",
              "11600                     F-Secure Safe 3-Devices 2 jaar    None   \n",
              "11601                Digikidz Werkwoordenrom / Groep 5/6    None   \n",
              "11602          Trend Micro Internet Security 1-PC 1 Jaar    None   \n",
              "\n",
              "                          ratings  \\\n",
              "0      4,7 van de 5 sterren uit 3   \n",
              "1      4,2 van de 5 sterren uit 6   \n",
              "2                            None   \n",
              "3      4,7 van de 5 sterren uit 3   \n",
              "4      4,7 van de 5 sterren uit 6   \n",
              "...                           ...   \n",
              "11598                        None   \n",
              "11599                        None   \n",
              "11600                        None   \n",
              "11601                        None   \n",
              "11602                        None   \n",
              "\n",
              "                                             short_descs other_options  \\\n",
              "0      Deze HP 15s-fq2730nd laptop is geschikt voor d...          None   \n",
              "1      Deze HP 14s-fq1716nd laptop is geschikt voor h...          None   \n",
              "2                                                   None          None   \n",
              "3      Deze HP 15s-fq2771nd laptop is geschikt voor h...          None   \n",
              "4      Uitvoeren van basis taken met weinig opslag en...          None   \n",
              "...                                                  ...           ...   \n",
              "11598                                               None          None   \n",
              "11599                                               None          None   \n",
              "11600                                               None          None   \n",
              "11601                                               None          None   \n",
              "11602                                               None          None   \n",
              "\n",
              "      category_id brand_id                                      product_specs  \n",
              "0               1       26  15.6 Inch Full HD Intel Core i3 processor RAM:...  \n",
              "1               1       26  14 Inch Full HD AMD Ryzen 5 processor RAM: 16 ...  \n",
              "2               1       26  15.6 Inch Full HD Intel Core i5 processor RAM:...  \n",
              "3               1       26  15.6 Inch Full HD Intel Core i7 processor RAM:...  \n",
              "4               1       31  14 Inch Full HD AMD Athlon Silver processor RA...  \n",
              "...           ...      ...                                                ...  \n",
              "11598           5    427.0                                               None  \n",
              "11599           5    383.0                                3 Platform: Windows  \n",
              "11600           5    383.0                  3 Platform: Windows, Android, iOS  \n",
              "11601           5    355.0                                  Platform: Windows  \n",
              "11602           5    433.0                                1 Platform: Windows  \n",
              "\n",
              "[11603 rows x 8 columns]"
            ],
            "text/html": [
              "\n",
              "  <div id=\"df-8bceb7eb-3e74-4230-8365-382fc9dae795\">\n",
              "    <div class=\"colab-df-container\">\n",
              "      <div>\n",
              "<style scoped>\n",
              "    .dataframe tbody tr th:only-of-type {\n",
              "        vertical-align: middle;\n",
              "    }\n",
              "\n",
              "    .dataframe tbody tr th {\n",
              "        vertical-align: top;\n",
              "    }\n",
              "\n",
              "    .dataframe thead th {\n",
              "        text-align: right;\n",
              "    }\n",
              "</style>\n",
              "<table border=\"1\" class=\"dataframe\">\n",
              "  <thead>\n",
              "    <tr style=\"text-align: right;\">\n",
              "      <th></th>\n",
              "      <th>product_name</th>\n",
              "      <th>prices</th>\n",
              "      <th>ratings</th>\n",
              "      <th>short_descs</th>\n",
              "      <th>other_options</th>\n",
              "      <th>category_id</th>\n",
              "      <th>brand_id</th>\n",
              "      <th>product_specs</th>\n",
              "    </tr>\n",
              "  </thead>\n",
              "  <tbody>\n",
              "    <tr>\n",
              "      <th>0</th>\n",
              "      <td>HP 15s-fq2730nd - Laptop - 15.6 inch</td>\n",
              "      <td>399.00</td>\n",
              "      <td>4,7 van de 5 sterren uit 3</td>\n",
              "      <td>Deze HP 15s-fq2730nd laptop is geschikt voor d...</td>\n",
              "      <td>None</td>\n",
              "      <td>1</td>\n",
              "      <td>26</td>\n",
              "      <td>15.6 Inch Full HD Intel Core i3 processor RAM:...</td>\n",
              "    </tr>\n",
              "    <tr>\n",
              "      <th>1</th>\n",
              "      <td>HP 14s-fq1716nd - Laptop - 14 inch</td>\n",
              "      <td>519.00</td>\n",
              "      <td>4,2 van de 5 sterren uit 6</td>\n",
              "      <td>Deze HP 14s-fq1716nd laptop is geschikt voor h...</td>\n",
              "      <td>None</td>\n",
              "      <td>1</td>\n",
              "      <td>26</td>\n",
              "      <td>14 Inch Full HD AMD Ryzen 5 processor RAM: 16 ...</td>\n",
              "    </tr>\n",
              "    <tr>\n",
              "      <th>2</th>\n",
              "      <td>HP 15s-fq5750nd - Laptop - 15.6 inch</td>\n",
              "      <td>None</td>\n",
              "      <td>None</td>\n",
              "      <td>None</td>\n",
              "      <td>None</td>\n",
              "      <td>1</td>\n",
              "      <td>26</td>\n",
              "      <td>15.6 Inch Full HD Intel Core i5 processor RAM:...</td>\n",
              "    </tr>\n",
              "    <tr>\n",
              "      <th>3</th>\n",
              "      <td>HP 15s-fq2771nd - Laptop - 15.6 inch</td>\n",
              "      <td>699.00</td>\n",
              "      <td>4,7 van de 5 sterren uit 3</td>\n",
              "      <td>Deze HP 15s-fq2771nd laptop is geschikt voor h...</td>\n",
              "      <td>None</td>\n",
              "      <td>1</td>\n",
              "      <td>26</td>\n",
              "      <td>15.6 Inch Full HD Intel Core i7 processor RAM:...</td>\n",
              "    </tr>\n",
              "    <tr>\n",
              "      <th>4</th>\n",
              "      <td>Lenovo IdeaPad 3 14ADA6 82KQ000SMH - Laptop - ...</td>\n",
              "      <td>349.00</td>\n",
              "      <td>4,7 van de 5 sterren uit 6</td>\n",
              "      <td>Uitvoeren van basis taken met weinig opslag en...</td>\n",
              "      <td>None</td>\n",
              "      <td>1</td>\n",
              "      <td>31</td>\n",
              "      <td>14 Inch Full HD AMD Athlon Silver processor RA...</td>\n",
              "    </tr>\n",
              "    <tr>\n",
              "      <th>...</th>\n",
              "      <td>...</td>\n",
              "      <td>...</td>\n",
              "      <td>...</td>\n",
              "      <td>...</td>\n",
              "      <td>...</td>\n",
              "      <td>...</td>\n",
              "      <td>...</td>\n",
              "      <td>...</td>\n",
              "    </tr>\n",
              "    <tr>\n",
              "      <th>11598</th>\n",
              "      <td>Planten /PC</td>\n",
              "      <td>None</td>\n",
              "      <td>None</td>\n",
              "      <td>None</td>\n",
              "      <td>None</td>\n",
              "      <td>5</td>\n",
              "      <td>427.0</td>\n",
              "      <td>None</td>\n",
              "    </tr>\n",
              "    <tr>\n",
              "      <th>11599</th>\n",
              "      <td>F-Secure Safe 3-Devices 1 jaar</td>\n",
              "      <td>None</td>\n",
              "      <td>None</td>\n",
              "      <td>None</td>\n",
              "      <td>None</td>\n",
              "      <td>5</td>\n",
              "      <td>383.0</td>\n",
              "      <td>3 Platform: Windows</td>\n",
              "    </tr>\n",
              "    <tr>\n",
              "      <th>11600</th>\n",
              "      <td>F-Secure Safe 3-Devices 2 jaar</td>\n",
              "      <td>None</td>\n",
              "      <td>None</td>\n",
              "      <td>None</td>\n",
              "      <td>None</td>\n",
              "      <td>5</td>\n",
              "      <td>383.0</td>\n",
              "      <td>3 Platform: Windows, Android, iOS</td>\n",
              "    </tr>\n",
              "    <tr>\n",
              "      <th>11601</th>\n",
              "      <td>Digikidz Werkwoordenrom / Groep 5/6</td>\n",
              "      <td>None</td>\n",
              "      <td>None</td>\n",
              "      <td>None</td>\n",
              "      <td>None</td>\n",
              "      <td>5</td>\n",
              "      <td>355.0</td>\n",
              "      <td>Platform: Windows</td>\n",
              "    </tr>\n",
              "    <tr>\n",
              "      <th>11602</th>\n",
              "      <td>Trend Micro Internet Security 1-PC 1 Jaar</td>\n",
              "      <td>None</td>\n",
              "      <td>None</td>\n",
              "      <td>None</td>\n",
              "      <td>None</td>\n",
              "      <td>5</td>\n",
              "      <td>433.0</td>\n",
              "      <td>1 Platform: Windows</td>\n",
              "    </tr>\n",
              "  </tbody>\n",
              "</table>\n",
              "<p>11603 rows × 8 columns</p>\n",
              "</div>\n",
              "      <button class=\"colab-df-convert\" onclick=\"convertToInteractive('df-8bceb7eb-3e74-4230-8365-382fc9dae795')\"\n",
              "              title=\"Convert this dataframe to an interactive table.\"\n",
              "              style=\"display:none;\">\n",
              "        \n",
              "  <svg xmlns=\"http://www.w3.org/2000/svg\" height=\"24px\"viewBox=\"0 0 24 24\"\n",
              "       width=\"24px\">\n",
              "    <path d=\"M0 0h24v24H0V0z\" fill=\"none\"/>\n",
              "    <path d=\"M18.56 5.44l.94 2.06.94-2.06 2.06-.94-2.06-.94-.94-2.06-.94 2.06-2.06.94zm-11 1L8.5 8.5l.94-2.06 2.06-.94-2.06-.94L8.5 2.5l-.94 2.06-2.06.94zm10 10l.94 2.06.94-2.06 2.06-.94-2.06-.94-.94-2.06-.94 2.06-2.06.94z\"/><path d=\"M17.41 7.96l-1.37-1.37c-.4-.4-.92-.59-1.43-.59-.52 0-1.04.2-1.43.59L10.3 9.45l-7.72 7.72c-.78.78-.78 2.05 0 2.83L4 21.41c.39.39.9.59 1.41.59.51 0 1.02-.2 1.41-.59l7.78-7.78 2.81-2.81c.8-.78.8-2.07 0-2.86zM5.41 20L4 18.59l7.72-7.72 1.47 1.35L5.41 20z\"/>\n",
              "  </svg>\n",
              "      </button>\n",
              "      \n",
              "  <style>\n",
              "    .colab-df-container {\n",
              "      display:flex;\n",
              "      flex-wrap:wrap;\n",
              "      gap: 12px;\n",
              "    }\n",
              "\n",
              "    .colab-df-convert {\n",
              "      background-color: #E8F0FE;\n",
              "      border: none;\n",
              "      border-radius: 50%;\n",
              "      cursor: pointer;\n",
              "      display: none;\n",
              "      fill: #1967D2;\n",
              "      height: 32px;\n",
              "      padding: 0 0 0 0;\n",
              "      width: 32px;\n",
              "    }\n",
              "\n",
              "    .colab-df-convert:hover {\n",
              "      background-color: #E2EBFA;\n",
              "      box-shadow: 0px 1px 2px rgba(60, 64, 67, 0.3), 0px 1px 3px 1px rgba(60, 64, 67, 0.15);\n",
              "      fill: #174EA6;\n",
              "    }\n",
              "\n",
              "    [theme=dark] .colab-df-convert {\n",
              "      background-color: #3B4455;\n",
              "      fill: #D2E3FC;\n",
              "    }\n",
              "\n",
              "    [theme=dark] .colab-df-convert:hover {\n",
              "      background-color: #434B5C;\n",
              "      box-shadow: 0px 1px 3px 1px rgba(0, 0, 0, 0.15);\n",
              "      filter: drop-shadow(0px 1px 2px rgba(0, 0, 0, 0.3));\n",
              "      fill: #FFFFFF;\n",
              "    }\n",
              "  </style>\n",
              "\n",
              "      <script>\n",
              "        const buttonEl =\n",
              "          document.querySelector('#df-8bceb7eb-3e74-4230-8365-382fc9dae795 button.colab-df-convert');\n",
              "        buttonEl.style.display =\n",
              "          google.colab.kernel.accessAllowed ? 'block' : 'none';\n",
              "\n",
              "        async function convertToInteractive(key) {\n",
              "          const element = document.querySelector('#df-8bceb7eb-3e74-4230-8365-382fc9dae795');\n",
              "          const dataTable =\n",
              "            await google.colab.kernel.invokeFunction('convertToInteractive',\n",
              "                                                     [key], {});\n",
              "          if (!dataTable) return;\n",
              "\n",
              "          const docLinkHtml = 'Like what you see? Visit the ' +\n",
              "            '<a target=\"_blank\" href=https://colab.research.google.com/notebooks/data_table.ipynb>data table notebook</a>'\n",
              "            + ' to learn more about interactive tables.';\n",
              "          element.innerHTML = '';\n",
              "          dataTable['output_type'] = 'display_data';\n",
              "          await google.colab.output.renderOutput(dataTable, element);\n",
              "          const docLink = document.createElement('div');\n",
              "          docLink.innerHTML = docLinkHtml;\n",
              "          element.appendChild(docLink);\n",
              "        }\n",
              "      </script>\n",
              "    </div>\n",
              "  </div>\n",
              "  "
            ]
          },
          "metadata": {},
          "execution_count": 21
        }
      ]
    },
    {
      "cell_type": "markdown",
      "source": [
        "Delete the \"... Meer\" at the end of `short_desc`"
      ],
      "metadata": {
        "id": "bPRB2JDj8haG"
      }
    },
    {
      "cell_type": "code",
      "source": [
        "products_mod = products_mod.withColumn(\"short_descs\", F.trim(F.expr(\"substring(short_descs, 1, length(short_descs) - length('... Meer'))\")))\n",
        "products_mod.show(truncate=False)"
      ],
      "metadata": {
        "colab": {
          "base_uri": "https://localhost:8080/",
          "height": 710
        },
        "id": "ApaQjtJd8hNn",
        "outputId": "5c8b8328-4fa4-4e2e-9ce9-a182d50024f4"
      },
      "execution_count": 304,
      "outputs": [
        {
          "output_type": "execute_result",
          "data": {
            "text/plain": [
              "                                            product_name  prices  \\\n",
              "0                   HP 15s-fq2730nd - Laptop - 15.6 inch  399.00   \n",
              "1                     HP 14s-fq1716nd - Laptop - 14 inch  519.00   \n",
              "2                   HP 15s-fq5750nd - Laptop - 15.6 inch    None   \n",
              "3                   HP 15s-fq2771nd - Laptop - 15.6 inch  699.00   \n",
              "4      Lenovo IdeaPad 3 14ADA6 82KQ000SMH - Laptop - ...  349.00   \n",
              "...                                                  ...     ...   \n",
              "11598                                        Planten /PC    None   \n",
              "11599                     F-Secure Safe 3-Devices 1 jaar    None   \n",
              "11600                     F-Secure Safe 3-Devices 2 jaar    None   \n",
              "11601                Digikidz Werkwoordenrom / Groep 5/6    None   \n",
              "11602          Trend Micro Internet Security 1-PC 1 Jaar    None   \n",
              "\n",
              "                          ratings  \\\n",
              "0      4,7 van de 5 sterren uit 3   \n",
              "1      4,2 van de 5 sterren uit 6   \n",
              "2                            None   \n",
              "3      4,7 van de 5 sterren uit 3   \n",
              "4      4,7 van de 5 sterren uit 6   \n",
              "...                           ...   \n",
              "11598                        None   \n",
              "11599                        None   \n",
              "11600                        None   \n",
              "11601                        None   \n",
              "11602                        None   \n",
              "\n",
              "                                             short_descs other_options  \\\n",
              "0      Deze HP 15s-fq2730nd laptop is geschikt voor d...          None   \n",
              "1      Deze HP 14s-fq1716nd laptop is geschikt voor h...          None   \n",
              "2                                                   None          None   \n",
              "3      Deze HP 15s-fq2771nd laptop is geschikt voor h...          None   \n",
              "4      Uitvoeren van basis taken met weinig opslag en...          None   \n",
              "...                                                  ...           ...   \n",
              "11598                                               None          None   \n",
              "11599                                               None          None   \n",
              "11600                                               None          None   \n",
              "11601                                               None          None   \n",
              "11602                                               None          None   \n",
              "\n",
              "      category_id brand_id                                      product_specs  \n",
              "0               1       26  15.6 Inch Full HD Intel Core i3 processor RAM:...  \n",
              "1               1       26  14 Inch Full HD AMD Ryzen 5 processor RAM: 16 ...  \n",
              "2               1       26  15.6 Inch Full HD Intel Core i5 processor RAM:...  \n",
              "3               1       26  15.6 Inch Full HD Intel Core i7 processor RAM:...  \n",
              "4               1       31  14 Inch Full HD AMD Athlon Silver processor RA...  \n",
              "...           ...      ...                                                ...  \n",
              "11598           5    427.0                                               None  \n",
              "11599           5    383.0                                3 Platform: Windows  \n",
              "11600           5    383.0                  3 Platform: Windows, Android, iOS  \n",
              "11601           5    355.0                                  Platform: Windows  \n",
              "11602           5    433.0                                1 Platform: Windows  \n",
              "\n",
              "[11603 rows x 8 columns]"
            ],
            "text/html": [
              "\n",
              "  <div id=\"df-350ea57c-b89e-404c-b169-6f461d910fe4\">\n",
              "    <div class=\"colab-df-container\">\n",
              "      <div>\n",
              "<style scoped>\n",
              "    .dataframe tbody tr th:only-of-type {\n",
              "        vertical-align: middle;\n",
              "    }\n",
              "\n",
              "    .dataframe tbody tr th {\n",
              "        vertical-align: top;\n",
              "    }\n",
              "\n",
              "    .dataframe thead th {\n",
              "        text-align: right;\n",
              "    }\n",
              "</style>\n",
              "<table border=\"1\" class=\"dataframe\">\n",
              "  <thead>\n",
              "    <tr style=\"text-align: right;\">\n",
              "      <th></th>\n",
              "      <th>product_name</th>\n",
              "      <th>prices</th>\n",
              "      <th>ratings</th>\n",
              "      <th>short_descs</th>\n",
              "      <th>other_options</th>\n",
              "      <th>category_id</th>\n",
              "      <th>brand_id</th>\n",
              "      <th>product_specs</th>\n",
              "    </tr>\n",
              "  </thead>\n",
              "  <tbody>\n",
              "    <tr>\n",
              "      <th>0</th>\n",
              "      <td>HP 15s-fq2730nd - Laptop - 15.6 inch</td>\n",
              "      <td>399.00</td>\n",
              "      <td>4,7 van de 5 sterren uit 3</td>\n",
              "      <td>Deze HP 15s-fq2730nd laptop is geschikt voor d...</td>\n",
              "      <td>None</td>\n",
              "      <td>1</td>\n",
              "      <td>26</td>\n",
              "      <td>15.6 Inch Full HD Intel Core i3 processor RAM:...</td>\n",
              "    </tr>\n",
              "    <tr>\n",
              "      <th>1</th>\n",
              "      <td>HP 14s-fq1716nd - Laptop - 14 inch</td>\n",
              "      <td>519.00</td>\n",
              "      <td>4,2 van de 5 sterren uit 6</td>\n",
              "      <td>Deze HP 14s-fq1716nd laptop is geschikt voor h...</td>\n",
              "      <td>None</td>\n",
              "      <td>1</td>\n",
              "      <td>26</td>\n",
              "      <td>14 Inch Full HD AMD Ryzen 5 processor RAM: 16 ...</td>\n",
              "    </tr>\n",
              "    <tr>\n",
              "      <th>2</th>\n",
              "      <td>HP 15s-fq5750nd - Laptop - 15.6 inch</td>\n",
              "      <td>None</td>\n",
              "      <td>None</td>\n",
              "      <td>None</td>\n",
              "      <td>None</td>\n",
              "      <td>1</td>\n",
              "      <td>26</td>\n",
              "      <td>15.6 Inch Full HD Intel Core i5 processor RAM:...</td>\n",
              "    </tr>\n",
              "    <tr>\n",
              "      <th>3</th>\n",
              "      <td>HP 15s-fq2771nd - Laptop - 15.6 inch</td>\n",
              "      <td>699.00</td>\n",
              "      <td>4,7 van de 5 sterren uit 3</td>\n",
              "      <td>Deze HP 15s-fq2771nd laptop is geschikt voor h...</td>\n",
              "      <td>None</td>\n",
              "      <td>1</td>\n",
              "      <td>26</td>\n",
              "      <td>15.6 Inch Full HD Intel Core i7 processor RAM:...</td>\n",
              "    </tr>\n",
              "    <tr>\n",
              "      <th>4</th>\n",
              "      <td>Lenovo IdeaPad 3 14ADA6 82KQ000SMH - Laptop - ...</td>\n",
              "      <td>349.00</td>\n",
              "      <td>4,7 van de 5 sterren uit 6</td>\n",
              "      <td>Uitvoeren van basis taken met weinig opslag en...</td>\n",
              "      <td>None</td>\n",
              "      <td>1</td>\n",
              "      <td>31</td>\n",
              "      <td>14 Inch Full HD AMD Athlon Silver processor RA...</td>\n",
              "    </tr>\n",
              "    <tr>\n",
              "      <th>...</th>\n",
              "      <td>...</td>\n",
              "      <td>...</td>\n",
              "      <td>...</td>\n",
              "      <td>...</td>\n",
              "      <td>...</td>\n",
              "      <td>...</td>\n",
              "      <td>...</td>\n",
              "      <td>...</td>\n",
              "    </tr>\n",
              "    <tr>\n",
              "      <th>11598</th>\n",
              "      <td>Planten /PC</td>\n",
              "      <td>None</td>\n",
              "      <td>None</td>\n",
              "      <td>None</td>\n",
              "      <td>None</td>\n",
              "      <td>5</td>\n",
              "      <td>427.0</td>\n",
              "      <td>None</td>\n",
              "    </tr>\n",
              "    <tr>\n",
              "      <th>11599</th>\n",
              "      <td>F-Secure Safe 3-Devices 1 jaar</td>\n",
              "      <td>None</td>\n",
              "      <td>None</td>\n",
              "      <td>None</td>\n",
              "      <td>None</td>\n",
              "      <td>5</td>\n",
              "      <td>383.0</td>\n",
              "      <td>3 Platform: Windows</td>\n",
              "    </tr>\n",
              "    <tr>\n",
              "      <th>11600</th>\n",
              "      <td>F-Secure Safe 3-Devices 2 jaar</td>\n",
              "      <td>None</td>\n",
              "      <td>None</td>\n",
              "      <td>None</td>\n",
              "      <td>None</td>\n",
              "      <td>5</td>\n",
              "      <td>383.0</td>\n",
              "      <td>3 Platform: Windows, Android, iOS</td>\n",
              "    </tr>\n",
              "    <tr>\n",
              "      <th>11601</th>\n",
              "      <td>Digikidz Werkwoordenrom / Groep 5/6</td>\n",
              "      <td>None</td>\n",
              "      <td>None</td>\n",
              "      <td>None</td>\n",
              "      <td>None</td>\n",
              "      <td>5</td>\n",
              "      <td>355.0</td>\n",
              "      <td>Platform: Windows</td>\n",
              "    </tr>\n",
              "    <tr>\n",
              "      <th>11602</th>\n",
              "      <td>Trend Micro Internet Security 1-PC 1 Jaar</td>\n",
              "      <td>None</td>\n",
              "      <td>None</td>\n",
              "      <td>None</td>\n",
              "      <td>None</td>\n",
              "      <td>5</td>\n",
              "      <td>433.0</td>\n",
              "      <td>1 Platform: Windows</td>\n",
              "    </tr>\n",
              "  </tbody>\n",
              "</table>\n",
              "<p>11603 rows × 8 columns</p>\n",
              "</div>\n",
              "      <button class=\"colab-df-convert\" onclick=\"convertToInteractive('df-350ea57c-b89e-404c-b169-6f461d910fe4')\"\n",
              "              title=\"Convert this dataframe to an interactive table.\"\n",
              "              style=\"display:none;\">\n",
              "        \n",
              "  <svg xmlns=\"http://www.w3.org/2000/svg\" height=\"24px\"viewBox=\"0 0 24 24\"\n",
              "       width=\"24px\">\n",
              "    <path d=\"M0 0h24v24H0V0z\" fill=\"none\"/>\n",
              "    <path d=\"M18.56 5.44l.94 2.06.94-2.06 2.06-.94-2.06-.94-.94-2.06-.94 2.06-2.06.94zm-11 1L8.5 8.5l.94-2.06 2.06-.94-2.06-.94L8.5 2.5l-.94 2.06-2.06.94zm10 10l.94 2.06.94-2.06 2.06-.94-2.06-.94-.94-2.06-.94 2.06-2.06.94z\"/><path d=\"M17.41 7.96l-1.37-1.37c-.4-.4-.92-.59-1.43-.59-.52 0-1.04.2-1.43.59L10.3 9.45l-7.72 7.72c-.78.78-.78 2.05 0 2.83L4 21.41c.39.39.9.59 1.41.59.51 0 1.02-.2 1.41-.59l7.78-7.78 2.81-2.81c.8-.78.8-2.07 0-2.86zM5.41 20L4 18.59l7.72-7.72 1.47 1.35L5.41 20z\"/>\n",
              "  </svg>\n",
              "      </button>\n",
              "      \n",
              "  <style>\n",
              "    .colab-df-container {\n",
              "      display:flex;\n",
              "      flex-wrap:wrap;\n",
              "      gap: 12px;\n",
              "    }\n",
              "\n",
              "    .colab-df-convert {\n",
              "      background-color: #E8F0FE;\n",
              "      border: none;\n",
              "      border-radius: 50%;\n",
              "      cursor: pointer;\n",
              "      display: none;\n",
              "      fill: #1967D2;\n",
              "      height: 32px;\n",
              "      padding: 0 0 0 0;\n",
              "      width: 32px;\n",
              "    }\n",
              "\n",
              "    .colab-df-convert:hover {\n",
              "      background-color: #E2EBFA;\n",
              "      box-shadow: 0px 1px 2px rgba(60, 64, 67, 0.3), 0px 1px 3px 1px rgba(60, 64, 67, 0.15);\n",
              "      fill: #174EA6;\n",
              "    }\n",
              "\n",
              "    [theme=dark] .colab-df-convert {\n",
              "      background-color: #3B4455;\n",
              "      fill: #D2E3FC;\n",
              "    }\n",
              "\n",
              "    [theme=dark] .colab-df-convert:hover {\n",
              "      background-color: #434B5C;\n",
              "      box-shadow: 0px 1px 3px 1px rgba(0, 0, 0, 0.15);\n",
              "      filter: drop-shadow(0px 1px 2px rgba(0, 0, 0, 0.3));\n",
              "      fill: #FFFFFF;\n",
              "    }\n",
              "  </style>\n",
              "\n",
              "      <script>\n",
              "        const buttonEl =\n",
              "          document.querySelector('#df-350ea57c-b89e-404c-b169-6f461d910fe4 button.colab-df-convert');\n",
              "        buttonEl.style.display =\n",
              "          google.colab.kernel.accessAllowed ? 'block' : 'none';\n",
              "\n",
              "        async function convertToInteractive(key) {\n",
              "          const element = document.querySelector('#df-350ea57c-b89e-404c-b169-6f461d910fe4');\n",
              "          const dataTable =\n",
              "            await google.colab.kernel.invokeFunction('convertToInteractive',\n",
              "                                                     [key], {});\n",
              "          if (!dataTable) return;\n",
              "\n",
              "          const docLinkHtml = 'Like what you see? Visit the ' +\n",
              "            '<a target=\"_blank\" href=https://colab.research.google.com/notebooks/data_table.ipynb>data table notebook</a>'\n",
              "            + ' to learn more about interactive tables.';\n",
              "          element.innerHTML = '';\n",
              "          dataTable['output_type'] = 'display_data';\n",
              "          await google.colab.output.renderOutput(dataTable, element);\n",
              "          const docLink = document.createElement('div');\n",
              "          docLink.innerHTML = docLinkHtml;\n",
              "          element.appendChild(docLink);\n",
              "        }\n",
              "      </script>\n",
              "    </div>\n",
              "  </div>\n",
              "  "
            ]
          },
          "metadata": {},
          "execution_count": 304
        }
      ]
    },
    {
      "cell_type": "markdown",
      "source": [
        "Translate the `ratings`, `short_desc`, `product_specs` to English"
      ],
      "metadata": {
        "id": "cNWI_CZG-DYi"
      }
    },
    {
      "cell_type": "code",
      "source": [
        "columns_to_translate = [\"ratings\", \"short_descs\", \"product_specs \"]\n",
        "\n",
        "translated_products = products_mod.select(\n",
        "    *[translate_udf(col(column)).alias(column) if column in columns_to_translate else col(column) for column in products_mod.columns]\n",
        ")\n",
        "translated_products = translated_products.na.fill(\"\")\n",
        "translated_products.show(truncate=False)"
      ],
      "metadata": {
        "colab": {
          "base_uri": "https://localhost:8080/"
        },
        "id": "h62-SAlr-602",
        "outputId": "f27a5460-af71-49c6-e5ba-2da7756b53cd"
      },
      "execution_count": 306,
      "outputs": [
        {
          "output_type": "stream",
          "name": "stdout",
          "text": [
            "+----------------------------------------------------------------------------------------------------------------------------------------------+-------+----------------------------+-----------------------------------------------------------------------------------------------------------+-------------+-----------+--------+-----------------------------------------------------------------------------------------------------------------------------+\n",
            "|product_name                                                                                                                                  |prices |ratings                     |short_descs                                                                                                |other_options|category_id|brand_id|product_specs                                                                                                                |\n",
            "+----------------------------------------------------------------------------------------------------------------------------------------------+-------+----------------------------+-----------------------------------------------------------------------------------------------------------+-------------+-----------+--------+-----------------------------------------------------------------------------------------------------------------------------+\n",
            "|HP 15s-fq2730nd - Laptop - 15.6 inch                                                                                                          |399.00 |4.7 out of 5 stars from 3   |This HP 15s-fq2730nd laptop is suitable for everyday use such as internet, emailing and typing             |             |1          |26      |15.6 Inch Full HD Intel Core i3 processor RAM: 8 GB 256 GB opslag SSD Intel UHD Graphics QWERTY toetsenbord lay-out          |\n",
            "|HP 14s-fq1716nd - Laptop - 14 inch                                                                                                            |519.00 |4.2 out of 5 stars from 6   |This HP 14s-fq1716nd laptop is suitable for writing reports and making presentations. M                    |             |1          |26      |14 Inch Full HD AMD Ryzen 5 processor RAM: 16 GB 512 GB opslag SSD AMD Radeon Graphics QWERTY toetsenbord lay-out            |\n",
            "|HP 15s-fq5750nd - Laptop - 15.6 inch                                                                                                          |       |                            |                                                                                                           |             |1          |26      |15.6 Inch Full HD Intel Core i5 processor RAM: 8 GB 256 GB opslag SSD Intel Iris Xe Graphics QWERTY toetsenbord lay-out      |\n",
            "|HP 15s-fq2771nd - Laptop - 15.6 inch                                                                                                          |699.00 |4.7 out of 5 stars from 3   |This HP 15s-fq2771nd laptop is suitable for editing photos in e.g. Adobe Photosho                          |             |1          |26      |15.6 Inch Full HD Intel Core i7 processor RAM: 16 GB 512 GB opslag SSD Intel Iris Xe Graphics QWERTY toetsenbord lay-out     |\n",
            "|Lenovo IdeaPad 3 14ADA6 82KQ000SMH - Laptop - 14 inch                                                                                         |349.00 |4.7 out of 5 stars from 6   |Performing basic tasks with little storage and good image quality: This Lenovo IdeaPad 3 14ADA6 82KQ000S   |             |1          |31      |14 Inch Full HD AMD Athlon Silver processor RAM: 4 GB 128 GB opslag SSD AMD Radeon Graphics QWERTY toetsenbord lay-out       |\n",
            "|Acer Aspire 3 A315-58-57F6 - laptop - 15.6 inch                                                                                               |469.00 |4.6 out of 5 stars from 16  |Multitasking of heavier tasks with sufficient storage and good image quality: This Acer Aspire 3 A315-58-57|             |1          |1       |15.6 Inch Full HD Intel Core i5 processor RAM: 8 GB 256 GB opslag SSD Intel Iris Xe Graphics QWERTY toetsenbord lay-out      |\n",
            "|HP 15s-eq1738nd - Laptop - 15.6 inch                                                                                                          |379.00 |5.0 out of 5 stars          |This HP 15s-eq1738nd laptop is suitable for everyday use such as internet, emailing and typing             |             |1          |26      |15.6 Inch Full HD AMD Ryzen 3 processor RAM: 8 GB 256 GB opslag SSD AMD Radeon Graphics QWERTY toetsenbord lay-out           |\n",
            "|ASUS TUF F15 FX506HC-HN004W - Gaming Laptop - 15.6 inch - 144Hz                                                                               |779.00 |5.0 out of 5 starsFive Stars|This Asus TUF F15 FX506HC-HN004W gaming laptop is perfect for the entry level gamer. You play so now and d |             |1          |8       |15.6 Inch Full HD Intel Core i5 processor RAM: 16 GB 512 GB opslag SSD NVIDIA GeForce RTX 3050 QWERTY toetsenbord lay-out    |\n",
            "|Apple MacBook Air (2020) MGN63N/A - 13.3 inch - Apple M1 - 256 GB - Space Grey                                                                |973.99 |4.7 out of 5 stars from 162 |This Macbook Air is suitable for everyday tasks and is the thinnest and lightest notebook ever made.       |             |1          |6       |13.3 Inch WQXGA Apple M1 processor RAM: 8 GB 256 GB opslag SSD Apple M1 7-core QWERTY toetsenbord lay-out                    |\n",
            "|Lenovo IdeaPad 3 Chromebook 14M836 82KN003DMH - 14 inch                                                                                       |219.00 |4.1 out of 5 stars from 67  |This Lenovo IdeaPad 3 82KN003DMH Chromebook is unique because of the Full HD display that is ideal for     |             |1          |31      |14 Inch Full HD MediaTek MT8183 processor RAM: 4 GB 128 GB opslag Flash Mali-G72 MP3 QWERTY toetsenbord lay-out              |\n",
            "|ASUS TUF F15 FX506HC-HN111W - Gaming Laptop - 15.6 inch - 144Hz                                                                               |759.00 |5.0 out of 5 starsFive Stars|This Asus TUF F15 FX506HC-HN111W gaming laptop is perfect for the entry level gamer. You play so now and d |             |1          |8       |15.6 Inch Full HD Intel Core i5 processor RAM: 8 GB 512 GB opslag SSD NVIDIA GeForce RTX 3050 QWERTY toetsenbord lay-out     |\n",
            "|ASUS X515EA-EJ4003W - Laptop - 15.6 inch                                                                                                      |549.00 |3.8 out of 5 stars from 5   |This Asus X515EA-EJ4003W laptop is suitable for watching your favorite movies and series. The              |             |1          |8       |15.6 Inch Full HD Intel Core i5 processor RAM: 16 GB 512 GB opslag SSD Intel Iris Xe Graphics QWERTY toetsenbord lay-out     |\n",
            "|Apple MacBook Air (2022) MLY33N/A - 13.6 inch - Apple M2 - 256 GB - Middernacht                                                               |1229.00|4.5 out of 5 stars from 19  |Redesigned. Reinvented. MacBook Air has been completely redesigned around the power                        |             |1          |6       |13.6 Inch WQXGA Apple M2 processor RAM: 8 GB 256 GB opslag SSD Apple M2 8-core QWERTY toetsenbord lay-out                    |\n",
            "|HP Pavilion 15-eh2750nd - Laptop - 15.6 inch                                                                                                  |599.00 |5.0 out of 5 starsFive Stars|This HP Pavilion 15-eh2750nd laptop is suitable for typing reports and making presentation                 |             |1          |26      |15.6 Inch Full HD AMD Ryzen 5 processor RAM: 16 GB 512 GB opslag SSD AMD Radeon Graphics QWERTY toetsenbord lay-out          |\n",
            "|Medion Gaming Laptop Erazer Specialist P10 - Intel Core i7-12700H - 16' 165 Hz QHD+ scherm - RTX 3060 - 1 TB SSD - 16 GB RAM - Windows 11 Home|       |                            |                                                                                                           |             |1          |35      |16 Inch WQXGA Intel Core i7 processor RAM: 16 GB 1000 GB opslag SSD NVIDIA GeForce RTX 3060 QWERTY toetsenbord lay-out       |\n",
            "|HP 15s-fq3745nd - Laptop - 15.6 inch                                                                                                          |329.00 |4.7 out of 5 stars from 3   |This HP 15s-fq3745nd laptop is suitable for everyday use such as internet, emailing and typing             |             |1          |26      |15.6 Inch Full HD Intel Celeron processor RAM: 4 GB 128 GB opslag SSD Intel UHD Graphics QWERTY toetsenbord lay-out          |\n",
            "|Apple Macbook Air (2023) MQKW3N/A - 15 inch - M2 - 256 GB - Middernacht                                                                       |       |                            |                                                                                                           |             |1          |6       |15.3 Inch 2880 x 1864 Apple M2 processor RAM: 8 GB 256 GB opslag SSD Apple M2 10-core QWERTY toetsenbord lay-out             |\n",
            "|HP Pavilion x360 14-dy0710nd - 2-in-1 laptop - 14 inch                                                                                        |       |                            |                                                                                                           |             |1          |26      |14 Inch Full HD Intel Pentium processor RAM: 4 GB 128 GB opslag SSD Intel UHD Graphics QWERTY toetsenbord lay-out Touchscreen|\n",
            "|HP 15s-eq2755nd - Laptop - 15.6 inch                                                                                                          |519.00 |3.9 out of 5 stars from 26  |This HP 15s-eq2755nd laptop is suitable for writing reports and working in spreadsheets. Thank you         |             |1          |26      |15.6 Inch Full HD AMD Ryzen 5 processor RAM: 16 GB 512 GB opslag SSD AMD Radeon Graphics QWERTY toetsenbord lay-out          |\n",
            "|ASUS ROG Zephyrus M16 90NR0831-M003R0 - Gaming Laptop - 16 inch - 165 Hz                                                                      |       |                            |                                                                                                           |             |1          |8       |16 Inch WQXGA Intel Core i9 processor RAM: 16 GB 1000 GB opslag SSD NVIDIA GeForce RTX 3070 Ti QWERTY toetsenbord lay-out    |\n",
            "+----------------------------------------------------------------------------------------------------------------------------------------------+-------+----------------------------+-----------------------------------------------------------------------------------------------------------+-------------+-----------+--------+-----------------------------------------------------------------------------------------------------------------------------+\n",
            "only showing top 20 rows\n",
            "\n"
          ]
        }
      ]
    },
    {
      "cell_type": "markdown",
      "source": [],
      "metadata": {
        "id": "5LsEn5r5hQyc"
      }
    }
  ]
}